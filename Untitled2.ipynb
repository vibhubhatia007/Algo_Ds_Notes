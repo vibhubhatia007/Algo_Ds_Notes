{
  "nbformat": 4,
  "nbformat_minor": 0,
  "metadata": {
    "colab": {
      "name": "Untitled2.ipynb",
      "provenance": [],
      "authorship_tag": "ABX9TyN9C3CWwsFnstSLw1oSNq+B",
      "include_colab_link": true
    },
    "kernelspec": {
      "name": "python3",
      "display_name": "Python 3"
    }
  },
  "cells": [
    {
      "cell_type": "markdown",
      "metadata": {
        "id": "view-in-github",
        "colab_type": "text"
      },
      "source": [
        "<a href=\"https://colab.research.google.com/github/vibhubhatia007/Algo_Ds_Notes/blob/master/Untitled2.ipynb\" target=\"_parent\"><img src=\"https://colab.research.google.com/assets/colab-badge.svg\" alt=\"Open In Colab\"/></a>"
      ]
    },
    {
      "cell_type": "code",
      "metadata": {
        "colab": {
          "base_uri": "https://localhost:8080/"
        },
        "id": "fAFHkC1KL4gJ",
        "outputId": "19219495-7f60-47ba-ad85-fcfbe9e6151e"
      },
      "source": [
        "# Q1.\tArmstrong number is a number that is equal to the sum of cubes of its digits. For example, 0, 1, 153, 370, 371 and 407 are the Armstrong numbers.\r\n",
        "# Write a program to check if an input number is an Armstrong number.\r\n",
        "\r\n",
        "n=int(input())\r\n",
        "t=n;\r\n",
        "s=0;\r\n",
        "while t>0 :\r\n",
        "  s=s+((t%10)*(t%10)*(t%10));\r\n",
        "  t=t//10;\r\n",
        "\r\n",
        "if s==n :\r\n",
        "  print(\"Armstrong number\")\r\n",
        "elif s!=n :\r\n",
        "  print(\"Not Armstrong number \")\r\n"
      ],
      "execution_count": 15,
      "outputs": [
        {
          "output_type": "stream",
          "text": [
            "153\n",
            "Armstrong number\n"
          ],
          "name": "stdout"
        }
      ]
    },
    {
      "cell_type": "code",
      "metadata": {
        "colab": {
          "base_uri": "https://localhost:8080/"
        },
        "id": "cijtzOUIOsvT",
        "outputId": "cbc9e2d9-4483-4da6-f727-e493b195bd16"
      },
      "source": [
        "# Q2.\tPrint the Alphabet Pattern in Python, as shown below. The input will be a number n, such that 1 <= n <= 26.\r\n",
        "\r\n",
        "n=int(input())\r\n",
        "for i in range(n) :\r\n",
        "  for j in range(i+1) :\r\n",
        "    x=j+65;\r\n",
        "    c=chr(x);\r\n",
        "    print(c,end=\" \")\r\n",
        "    print(\" \",end=\" \")\r\n",
        "  print(\" \")\r\n",
        "\r\n",
        "\r\n"
      ],
      "execution_count": 22,
      "outputs": [
        {
          "output_type": "stream",
          "text": [
            "5\n",
            "A    \n",
            "A   B    \n",
            "A   B   C    \n",
            "A   B   C   D    \n",
            "A   B   C   D   E    \n"
          ],
          "name": "stdout"
        }
      ]
    },
    {
      "cell_type": "code",
      "metadata": {
        "colab": {
          "base_uri": "https://localhost:8080/"
        },
        "id": "h9tgvm7IQn2b",
        "outputId": "e86839d3-7407-49e3-bd79-61e9a7b1d878"
      },
      "source": [
        "# Q3.\tWrite a program which prompts the user for a Fahrenheit temperature, convert the temperature to Celsius and print out the converted temperature.\r\n",
        "\r\n",
        "f=float(input())\r\n",
        "result = float(((f - 32) * 5 / 9))\r\n",
        "print(result)\r\n"
      ],
      "execution_count": 29,
      "outputs": [
        {
          "output_type": "stream",
          "text": [
            "102.44\n",
            "39.13333333333333\n"
          ],
          "name": "stdout"
        }
      ]
    },
    {
      "cell_type": "code",
      "metadata": {
        "colab": {
          "base_uri": "https://localhost:8080/"
        },
        "id": "lb-HUp_ORsjf",
        "outputId": "32c1e925-9abc-487f-d864-a08035fd9fa2"
      },
      "source": [
        "# Q4.\tWrite a program to read a number from user and print it in reverse.\r\n",
        "\r\n",
        "n=int(input())\r\n",
        "r=0;\r\n",
        "while n>0 :\r\n",
        "  r=r*10+(n%10)\r\n",
        "  n=n//10\r\n",
        "print(r)"
      ],
      "execution_count": 27,
      "outputs": [
        {
          "output_type": "stream",
          "text": [
            "123\n",
            "321\n"
          ],
          "name": "stdout"
        }
      ]
    },
    {
      "cell_type": "code",
      "metadata": {
        "colab": {
          "base_uri": "https://localhost:8080/"
        },
        "id": "Ox9N0-e3SFu0",
        "outputId": "683bd855-a6cc-420c-8057-461d2e1a957a"
      },
      "source": [
        "# Q5.\tWrite a program to prompt the user for hours and rate per hour to compute gross pay. \r\n",
        "n=float(input(\"Enter number of hours \"))\r\n",
        "r=float(input(\"Enter rate per hour \"))\r\n",
        "p=r*n\r\n",
        "print(\"gross pay = \",end=\" \")\r\n",
        "print(p)\r\n"
      ],
      "execution_count": 31,
      "outputs": [
        {
          "output_type": "stream",
          "text": [
            "Enter number of hours 35\n",
            "Enter rate per hour 2.75\n",
            "gross pay =  96.25\n"
          ],
          "name": "stdout"
        }
      ]
    },
    {
      "cell_type": "code",
      "metadata": {
        "colab": {
          "base_uri": "https://localhost:8080/"
        },
        "id": "nPf0WwCiUYiG",
        "outputId": "0d06c7c1-1ee5-44f0-88f9-762503a20ff8"
      },
      "source": [
        "# Q6.\tWrite a program that accepts a string from user and printswhether it is a palindrome or not. Ignore case of characters.\r\n",
        "\r\n",
        "def isPalindrome(s):\r\n",
        "    return s == s[::-1]\r\n",
        " \r\n",
        "s = input(\"Enter a string \")\r\n",
        "ans = isPalindrome(s)\r\n",
        " \r\n",
        "if ans:\r\n",
        "    print(\"Yes it is palindrome\")\r\n",
        "else:\r\n",
        "    print(\"No it is not a palindromw\")"
      ],
      "execution_count": 34,
      "outputs": [
        {
          "output_type": "stream",
          "text": [
            "Enter a stringabba\n",
            "Yes it is palindrome\n"
          ],
          "name": "stdout"
        }
      ]
    },
    {
      "cell_type": "code",
      "metadata": {
        "colab": {
          "base_uri": "https://localhost:8080/"
        },
        "id": "TFlU9fBOU9hs",
        "outputId": "267058aa-2e0f-465d-bbba-0c9a30039d5b"
      },
      "source": [
        "# Q7.\tWrite a program to print frequency of characters in a string. \r\n",
        "\r\n",
        "test_str = \"GeeksforGeeks\"\r\n",
        "  \r\n",
        "# using naive method to get count  \r\n",
        "# of each element in string  \r\n",
        "all_freq = {} \r\n",
        "  \r\n",
        "for i in test_str: \r\n",
        "    if i in all_freq: \r\n",
        "        all_freq[i] += 1\r\n",
        "    else: \r\n",
        "        all_freq[i] = 1\r\n",
        "  \r\n",
        "# printing result  \r\n",
        "print (\"Count of all characters in GeeksforGeeks is :\\n \"\r\n",
        "                                        +  str(all_freq)) \r\n"
      ],
      "execution_count": 39,
      "outputs": [
        {
          "output_type": "stream",
          "text": [
            "Count of all characters in GeeksforGeeks is :\n",
            " {'G': 2, 'e': 4, 'k': 2, 's': 2, 'f': 1, 'o': 1, 'r': 1}\n"
          ],
          "name": "stdout"
        }
      ]
    },
    {
      "cell_type": "code",
      "metadata": {
        "colab": {
          "base_uri": "https://localhost:8080/"
        },
        "id": "elCL4AUocFc3",
        "outputId": "1281b6ce-1d0c-467e-d913-8059247e0293"
      },
      "source": [
        "# Q8.\tWrite a Python program to find the first appearance of the substring 'not' and 'poor' from a given string, if 'poor' appears after 'not', replace the whole 'not...poor' substring with 'good'. Return the resulting string.\r\n",
        "\r\n",
        "s=input(\"Enter a string\")\r\n",
        "\r\n",
        "snot = s.find('not')\r\n",
        "spoor = s.find('poor')\r\n",
        "  \r\n",
        "if spoor > snot and snot>0 and spoor>0:\r\n",
        "   s = s.replace(s[snot:(spoor+4)], 'good')\r\n",
        "  \r\n",
        "print(s)"
      ],
      "execution_count": 51,
      "outputs": [
        {
          "output_type": "stream",
          "text": [
            "Enter a stringThe lyrics is not that poor!'\n",
            "The lyrics is good!'\n"
          ],
          "name": "stdout"
        }
      ]
    },
    {
      "cell_type": "code",
      "metadata": {
        "colab": {
          "base_uri": "https://localhost:8080/"
        },
        "id": "B-pX5CHwXtxu",
        "outputId": "3669d53b-585b-4830-ae27-a62f413822b8"
      },
      "source": [
        "# Q9.\tWrite a program to do the following for the string:www.google.com\r\n",
        "# a.\tRemove all w’s before and after .google.\r\n",
        "# b.\tCount no of occurrence of w.\r\n",
        "\r\n",
        "\r\n",
        "s=\"www.google.com\"\r\n",
        "n=len(s)\r\n",
        "c=0\r\n",
        "t=\"\"\r\n",
        "for i in range (n) :\r\n",
        "  if(s[i]== 'w') :\r\n",
        "     c=c+1\r\n",
        "  else :\r\n",
        "    t=t+s[i]\r\n",
        "\r\n",
        "print(c)\r\n",
        "print(t)\r\n",
        "\r\n",
        "  "
      ],
      "execution_count": 48,
      "outputs": [
        {
          "output_type": "stream",
          "text": [
            "3\n",
            ".google.com\n"
          ],
          "name": "stdout"
        }
      ]
    }
  ]
}